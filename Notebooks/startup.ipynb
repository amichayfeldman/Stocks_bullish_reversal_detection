{
 "cells": [
  {
   "cell_type": "code",
   "execution_count": 17,
   "metadata": {},
   "outputs": [],
   "source": [
    "import yfinance as yf\n",
    "import pandas as pd\n",
    "from yahoo_fin import stock_info as si\n"
   ]
  },
  {
   "cell_type": "code",
   "execution_count": null,
   "metadata": {},
   "outputs": [],
   "source": []
  },
  {
   "cell_type": "markdown",
   "metadata": {},
   "source": []
  },
  {
   "cell_type": "code",
   "execution_count": null,
   "metadata": {},
   "outputs": [],
   "source": []
  },
  {
   "cell_type": "code",
   "execution_count": null,
   "metadata": {},
   "outputs": [],
   "source": []
  },
  {
   "attachments": {},
   "cell_type": "markdown",
   "metadata": {},
   "source": [
    "## Get all stocks tickers:"
   ]
  },
  {
   "cell_type": "code",
   "execution_count": null,
   "metadata": {},
   "outputs": [],
   "source": []
  },
  {
   "cell_type": "code",
   "execution_count": 14,
   "metadata": {},
   "outputs": [],
   "source": [
    "sp_df = pd.DataFrame( si.tickers_sp500())\n",
    "nasdaq_df = pd.DataFrame( si.tickers_nasdaq())\n",
    "dow_df = pd.DataFrame( si.tickers_dow())\n",
    "others_df = pd.DataFrame( si.tickers_other())\n",
    "stocks_df = pd.concat([sp_df, nasdaq_df, dow_df, others_df])\\\n",
    "               .drop_duplicates()\\\n",
    "               .rename(columns={0: \"Ticker\"})\\\n",
    "               .assign(valid=lambda df: df.apply(lambda row: False if len(row[\"Ticker\"]) > 4 and row[\"Ticker\"][-1] in corrupted_stocks_l else True, axis=1))\\\n",
    "               .query(\"valid == True\", engine=\"python\")\\\n",
    "               .assign(ticker_obj=lambda df: df.apply(lambda row: yf.Ticker(row[\"Ticker\"]), axis=1),\n",
    "                       )"
   ]
  },
  {
   "attachments": {},
   "cell_type": "markdown",
   "metadata": {},
   "source": [
    "## Auxilary functions:"
   ]
  },
  {
   "cell_type": "code",
   "execution_count": null,
   "metadata": {},
   "outputs": [],
   "source": [
    "def calc_ma(price_series, window_size):"
   ]
  },
  {
   "cell_type": "code",
   "execution_count": 16,
   "metadata": {},
   "outputs": [
    {
     "data": {
      "text/html": [
       "<div>\n",
       "<style scoped>\n",
       "    .dataframe tbody tr th:only-of-type {\n",
       "        vertical-align: middle;\n",
       "    }\n",
       "\n",
       "    .dataframe tbody tr th {\n",
       "        vertical-align: top;\n",
       "    }\n",
       "\n",
       "    .dataframe thead th {\n",
       "        text-align: right;\n",
       "    }\n",
       "</style>\n",
       "<table border=\"1\" class=\"dataframe\">\n",
       "  <thead>\n",
       "    <tr style=\"text-align: right;\">\n",
       "      <th></th>\n",
       "      <th>Ticker</th>\n",
       "      <th>valid</th>\n",
       "    </tr>\n",
       "  </thead>\n",
       "  <tbody>\n",
       "    <tr>\n",
       "      <th>0</th>\n",
       "      <td>A</td>\n",
       "      <td>True</td>\n",
       "    </tr>\n",
       "    <tr>\n",
       "      <th>1</th>\n",
       "      <td>AAL</td>\n",
       "      <td>True</td>\n",
       "    </tr>\n",
       "    <tr>\n",
       "      <th>2</th>\n",
       "      <td>AAP</td>\n",
       "      <td>True</td>\n",
       "    </tr>\n",
       "    <tr>\n",
       "      <th>3</th>\n",
       "      <td>AAPL</td>\n",
       "      <td>True</td>\n",
       "    </tr>\n",
       "    <tr>\n",
       "      <th>4</th>\n",
       "      <td>ABBV</td>\n",
       "      <td>True</td>\n",
       "    </tr>\n",
       "  </tbody>\n",
       "</table>\n",
       "</div>"
      ],
      "text/plain": [
       "  Ticker  valid\n",
       "0      A   True\n",
       "1    AAL   True\n",
       "2    AAP   True\n",
       "3   AAPL   True\n",
       "4   ABBV   True"
      ]
     },
     "execution_count": 16,
     "metadata": {},
     "output_type": "execute_result"
    }
   ],
   "source": [
    "stocks_df.head()"
   ]
  },
  {
   "cell_type": "code",
   "execution_count": 18,
   "metadata": {},
   "outputs": [],
   "source": [
    "msft = yf.Ticker(\"MSFT\")"
   ]
  },
  {
   "cell_type": "code",
   "execution_count": 26,
   "metadata": {},
   "outputs": [],
   "source": [
    "msft_prices_df = msft.history(period=\"5y\", interval=\"1d\")"
   ]
  },
  {
   "cell_type": "code",
   "execution_count": 27,
   "metadata": {},
   "outputs": [
    {
     "data": {
      "text/html": [
       "<div>\n",
       "<style scoped>\n",
       "    .dataframe tbody tr th:only-of-type {\n",
       "        vertical-align: middle;\n",
       "    }\n",
       "\n",
       "    .dataframe tbody tr th {\n",
       "        vertical-align: top;\n",
       "    }\n",
       "\n",
       "    .dataframe thead th {\n",
       "        text-align: right;\n",
       "    }\n",
       "</style>\n",
       "<table border=\"1\" class=\"dataframe\">\n",
       "  <thead>\n",
       "    <tr style=\"text-align: right;\">\n",
       "      <th></th>\n",
       "      <th>Open</th>\n",
       "      <th>High</th>\n",
       "      <th>Low</th>\n",
       "      <th>Close</th>\n",
       "      <th>Volume</th>\n",
       "      <th>Dividends</th>\n",
       "      <th>Stock Splits</th>\n",
       "    </tr>\n",
       "    <tr>\n",
       "      <th>Date</th>\n",
       "      <th></th>\n",
       "      <th></th>\n",
       "      <th></th>\n",
       "      <th></th>\n",
       "      <th></th>\n",
       "      <th></th>\n",
       "      <th></th>\n",
       "    </tr>\n",
       "  </thead>\n",
       "  <tbody>\n",
       "    <tr>\n",
       "      <th>2018-02-08 00:00:00-05:00</th>\n",
       "      <td>84.481248</td>\n",
       "      <td>84.641338</td>\n",
       "      <td>79.819762</td>\n",
       "      <td>80.055191</td>\n",
       "      <td>55628700</td>\n",
       "      <td>0.00</td>\n",
       "      <td>0.0</td>\n",
       "    </tr>\n",
       "    <tr>\n",
       "      <th>2018-02-09 00:00:00-05:00</th>\n",
       "      <td>81.269999</td>\n",
       "      <td>83.746707</td>\n",
       "      <td>78.943962</td>\n",
       "      <td>83.040421</td>\n",
       "      <td>63499100</td>\n",
       "      <td>0.00</td>\n",
       "      <td>0.0</td>\n",
       "    </tr>\n",
       "    <tr>\n",
       "      <th>2018-02-12 00:00:00-05:00</th>\n",
       "      <td>83.567768</td>\n",
       "      <td>84.547152</td>\n",
       "      <td>82.804981</td>\n",
       "      <td>83.935036</td>\n",
       "      <td>35720300</td>\n",
       "      <td>0.00</td>\n",
       "      <td>0.0</td>\n",
       "    </tr>\n",
       "    <tr>\n",
       "      <th>2018-02-13 00:00:00-05:00</th>\n",
       "      <td>83.746709</td>\n",
       "      <td>84.754343</td>\n",
       "      <td>82.682573</td>\n",
       "      <td>84.594254</td>\n",
       "      <td>26407700</td>\n",
       "      <td>0.00</td>\n",
       "      <td>0.0</td>\n",
       "    </tr>\n",
       "    <tr>\n",
       "      <th>2018-02-14 00:00:00-05:00</th>\n",
       "      <td>83.742724</td>\n",
       "      <td>86.089144</td>\n",
       "      <td>83.648112</td>\n",
       "      <td>85.918839</td>\n",
       "      <td>34960900</td>\n",
       "      <td>0.42</td>\n",
       "      <td>0.0</td>\n",
       "    </tr>\n",
       "  </tbody>\n",
       "</table>\n",
       "</div>"
      ],
      "text/plain": [
       "                                Open       High        Low      Close  \\\n",
       "Date                                                                    \n",
       "2018-02-08 00:00:00-05:00  84.481248  84.641338  79.819762  80.055191   \n",
       "2018-02-09 00:00:00-05:00  81.269999  83.746707  78.943962  83.040421   \n",
       "2018-02-12 00:00:00-05:00  83.567768  84.547152  82.804981  83.935036   \n",
       "2018-02-13 00:00:00-05:00  83.746709  84.754343  82.682573  84.594254   \n",
       "2018-02-14 00:00:00-05:00  83.742724  86.089144  83.648112  85.918839   \n",
       "\n",
       "                             Volume  Dividends  Stock Splits  \n",
       "Date                                                          \n",
       "2018-02-08 00:00:00-05:00  55628700       0.00           0.0  \n",
       "2018-02-09 00:00:00-05:00  63499100       0.00           0.0  \n",
       "2018-02-12 00:00:00-05:00  35720300       0.00           0.0  \n",
       "2018-02-13 00:00:00-05:00  26407700       0.00           0.0  \n",
       "2018-02-14 00:00:00-05:00  34960900       0.42           0.0  "
      ]
     },
     "execution_count": 27,
     "metadata": {},
     "output_type": "execute_result"
    }
   ],
   "source": [
    "msft_prices_df.head()"
   ]
  },
  {
   "cell_type": "code",
   "execution_count": 30,
   "metadata": {},
   "outputs": [
    {
     "data": {
      "text/plain": [
       "Date\n",
       "2018-02-08 00:00:00-05:00           NaN\n",
       "2018-02-09 00:00:00-05:00           NaN\n",
       "2018-02-12 00:00:00-05:00           NaN\n",
       "2018-02-13 00:00:00-05:00           NaN\n",
       "2018-02-14 00:00:00-05:00           NaN\n",
       "                                ...    \n",
       "2023-02-02 00:00:00-05:00    249.665826\n",
       "2023-02-03 00:00:00-05:00    249.684388\n",
       "2023-02-06 00:00:00-05:00    249.674173\n",
       "2023-02-07 00:00:00-05:00    249.714198\n",
       "2023-02-08 00:00:00-05:00    249.791201\n",
       "Name: Close, Length: 1259, dtype: float64"
      ]
     },
     "execution_count": 30,
     "metadata": {},
     "output_type": "execute_result"
    }
   ],
   "source": [
    "msft_prices_df[\"Close\"].rolling(150).mean()"
   ]
  },
  {
   "cell_type": "code",
   "execution_count": null,
   "metadata": {},
   "outputs": [],
   "source": []
  }
 ],
 "metadata": {
  "kernelspec": {
   "display_name": "stocks",
   "language": "python",
   "name": "python3"
  },
  "language_info": {
   "codemirror_mode": {
    "name": "ipython",
    "version": 3
   },
   "file_extension": ".py",
   "mimetype": "text/x-python",
   "name": "python",
   "nbconvert_exporter": "python",
   "pygments_lexer": "ipython3",
   "version": "3.9.16"
  },
  "orig_nbformat": 4,
  "vscode": {
   "interpreter": {
    "hash": "1d716f25049960123e8b65eada114536b934dc0c78b35bbb1f552269301f898f"
   }
  }
 },
 "nbformat": 4,
 "nbformat_minor": 2
}
